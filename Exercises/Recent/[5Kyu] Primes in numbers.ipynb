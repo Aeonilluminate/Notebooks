{
 "cells": [
  {
   "cell_type": "markdown",
   "metadata": {},
   "source": [
    "Given a positive number n > 1 find the prime factor decomposition of n. The result will be a string with the following form :\n",
    "\n",
    "`\"(p1**n1)(p2**n2)...(pk**nk)\"`\n",
    "\n",
    "with the p(i) in increasing order and n(i) empty if n(i) is 1.\n",
    "\n",
    "`Example: n = 86240 should return \"(2**5)(5)(7**2)(11)\"`"
   ]
  },
  {
   "cell_type": "code",
   "execution_count": 2,
   "metadata": {},
   "outputs": [],
   "source": [
    "def prime_factors1(n):\n",
    "    p_factors = {}\n",
    "    current_divisor = 2\n",
    "    product = 1\n",
    "    while product != n:\n",
    "        prime_flag = True\n",
    "        multiplicity = 0\n",
    "        if n % current_divisor == 0:\n",
    "            for factor in p_factors.keys():\n",
    "                if current_divisor % factor == 0:\n",
    "                    prime_flag = False\n",
    "                    break\n",
    "            if prime_flag:\n",
    "                if product == 0:\n",
    "                    remainder = n\n",
    "                else:\n",
    "                    remainder = n / product\n",
    "                while remainder % (current_divisor) == 0:\n",
    "                    multiplicity += 1\n",
    "                    remainder /= (current_divisor)\n",
    "                p_factors[current_divisor] = multiplicity\n",
    "                product *= current_divisor ** multiplicity             \n",
    "        current_divisor += 1\n",
    "    \n",
    "    return_components = [f'({factor}**{multiplicity})' if multiplicity > 1\n",
    "                         else f'({factor})'\n",
    "                         for factor, multiplicity in p_factors.items()]\n",
    "    return ''.join(return_components)"
   ]
  },
  {
   "cell_type": "code",
   "execution_count": 6,
   "metadata": {},
   "outputs": [
    {
     "data": {
      "text/plain": [
       "'(2**5)(5)(7**2)(11)'"
      ]
     },
     "execution_count": 6,
     "metadata": {},
     "output_type": "execute_result"
    }
   ],
   "source": [
    "prime_factors1(86240)"
   ]
  },
  {
   "cell_type": "markdown",
   "metadata": {},
   "source": [
    "MODIFIED:"
   ]
  },
  {
   "cell_type": "code",
   "execution_count": 9,
   "metadata": {},
   "outputs": [],
   "source": [
    "def prime_factors2(n):\n",
    "    i, j, p = 2, 0, []\n",
    "    while n > 1:\n",
    "        while n % i == 0: n, j = n / i, j + 1\n",
    "        if j > 0: p.append([i, j])\n",
    "        i, j = i + 1, 0\n",
    "    # return ''.join('(%d' %q[0] + ('**%d' %q[1]) * (q[1] > 1) + ')' for q in p)\n",
    "    return ''.join(f'({q[0]}**{q[1]})' if q[1] > 1 else f'({q[0]})' for q in p)"
   ]
  },
  {
   "cell_type": "code",
   "execution_count": 10,
   "metadata": {},
   "outputs": [
    {
     "data": {
      "text/plain": [
       "'(2**5)(5)(7**2)(11)'"
      ]
     },
     "execution_count": 10,
     "metadata": {},
     "output_type": "execute_result"
    }
   ],
   "source": [
    "prime_factors2(86240)"
   ]
  }
 ],
 "metadata": {
  "kernelspec": {
   "display_name": "ML_env",
   "language": "python",
   "name": "python3"
  },
  "language_info": {
   "codemirror_mode": {
    "name": "ipython",
    "version": 3
   },
   "file_extension": ".py",
   "mimetype": "text/x-python",
   "name": "python",
   "nbconvert_exporter": "python",
   "pygments_lexer": "ipython3",
   "version": "3.12.1"
  }
 },
 "nbformat": 4,
 "nbformat_minor": 2
}
