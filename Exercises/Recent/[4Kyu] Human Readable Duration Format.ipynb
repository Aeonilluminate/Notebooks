{
 "cells": [
  {
   "cell_type": "markdown",
   "metadata": {},
   "source": [
    "Your task in order to complete this Kata is to write a function which formats a duration, given as a number of seconds, in a human-friendly way.\n",
    "\n",
    "The function must accept a non-negative integer. If it is zero, it just returns `\"now\"`. Otherwise, the duration is expressed as a combination of `years`, `days`, `hours`, `minutes` and `seconds`.\n",
    "\n",
    "It is much easier to understand with an example:\n",
    "```html\n",
    "* For seconds = 62, your function should return \n",
    "    \"1 minute and 2 seconds\"\n",
    "* For seconds = 3662, your function should return\n",
    "    \"1 hour, 1 minute and 2 seconds\"\n",
    "```\n",
    "**For the purpose of this Kata, a year is 365 days and a day is 24 hours.\n",
    "**\n",
    "Note that spaces are important.\n",
    "\n",
    "#### **Detailed rules**\n",
    "The resulting expression is made of components like `4 seconds`, `1 year`, etc. In general, a positive integer and one of the valid units of time, separated by a space. The unit of time is used in plural if the integer is greater than 1.\n",
    "\n",
    "The components are separated by a comma and a space `(\", \")`. Except the last component, which is separated by `\" and \"`, just like it would be written in English.\n",
    "\n",
    "A more significant units of time will occur before than a least significant one. Therefore, 1 second and 1 year is not correct, but `1 year and 1 second` is.\n",
    "\n",
    "Different components have different unit of times. So there is not repeated units like in `5 seconds and 1 second`.\n",
    "\n",
    "A component will not appear at all if its value happens to be zero. Hence, `1 minute and 0 seconds` is not valid, but it should be just `1 minute`.\n",
    "\n",
    "A unit of time must be used \"as much as possible\". It means that the function should not return `61 seconds`, but `1 minute and 1 second` instead. Formally, the duration specified by of a component must not be greater than any valid more significant unit of time."
   ]
  },
  {
   "cell_type": "code",
   "execution_count": 45,
   "metadata": {},
   "outputs": [],
   "source": [
    "def format_duration(seconds):\n",
    "    time_conversion = {\"years\": 31536000, \"days\": 86400, \"hours\": 3600, \"minutes\": 60, \"seconds\": 1}\n",
    "    duration_components = {}\n",
    "    return_components = []\n",
    "    assert seconds >= 0, \"seconds must be non-negative\"\n",
    "\n",
    "    if seconds > 0:\n",
    "        for key, conversion in time_conversion.items():\n",
    "            duration_components[key] = seconds // conversion\n",
    "            seconds -= duration_components[key] * conversion\n",
    "\n",
    "        return_components = [f'{quantity} {time_unit[:-1] if quantity == 1 else time_unit}'\n",
    "                             for time_unit, quantity in duration_components.items() \n",
    "                             if quantity != 0]\n",
    "\n",
    "        if len(return_components) > 1:\n",
    "            return ', '.join(return_components[:-1]) + f' and {return_components[-1]}'\n",
    "        else:\n",
    "            return ''.join(return_components)\n",
    "    return \"now\""
   ]
  },
  {
   "cell_type": "code",
   "execution_count": 46,
   "metadata": {},
   "outputs": [
    {
     "name": "stdout",
     "output_type": "stream",
     "text": [
      "1 minute\n"
     ]
    }
   ],
   "source": [
    "x = format_duration(60)\n",
    "print(x)"
   ]
  },
  {
   "cell_type": "code",
   "execution_count": 34,
   "metadata": {},
   "outputs": [
    {
     "name": "stdout",
     "output_type": "stream",
     "text": [
      "27 days, 3 hours, 30 minutes\n",
      "27 days, 3 hours, 30 minutes and 54 seconds\n"
     ]
    }
   ],
   "source": [
    "nonzero_components = {k: v for k, v in x.items() if v != 0}\n",
    "statement = [str(v) + ' ' + k for k,v in x.items() if v !=0]\n",
    "y  = ', '.join(statement[:-1]) + f' and {statement[-1]}'\n",
    "print(', '.join(statement[:-1]))\n",
    "print(y)"
   ]
  },
  {
   "cell_type": "code",
   "execution_count": 39,
   "metadata": {},
   "outputs": [
    {
     "data": {
      "text/plain": [
       "'cat'"
      ]
     },
     "execution_count": 39,
     "metadata": {},
     "output_type": "execute_result"
    }
   ],
   "source": [
    "z = 'cats'\n",
    "z[:-1]"
   ]
  },
  {
   "cell_type": "code",
   "execution_count": null,
   "metadata": {},
   "outputs": [],
   "source": []
  }
 ],
 "metadata": {
  "kernelspec": {
   "display_name": "ML_env",
   "language": "python",
   "name": "python3"
  },
  "language_info": {
   "codemirror_mode": {
    "name": "ipython",
    "version": 3
   },
   "file_extension": ".py",
   "mimetype": "text/x-python",
   "name": "python",
   "nbconvert_exporter": "python",
   "pygments_lexer": "ipython3",
   "version": "3.12.1"
  }
 },
 "nbformat": 4,
 "nbformat_minor": 2
}
