{
 "cells": [
  {
   "cell_type": "markdown",
   "metadata": {},
   "source": [
    "### EXERCISE: Who likes it? (6 kyu)\n",
    "\n",
    "You probably know the \"like\" system from Facebook and other pages. People can \"like\" blog posts, pictures or other items. We want to create the text that should be displayed next to such an item.\n",
    "\n",
    "Implement the function which takes an array containing the names of people that like an item. It must return the display text as shown in the examples:\n",
    "\n",
    "[]                                -->  \"no one likes this\"\n",
    "[\"Peter\"]                         -->  \"Peter likes this\"\n",
    "[\"Jacob\", \"Alex\"]                 -->  \"Jacob and Alex like this\"\n",
    "[\"Max\", \"John\", \"Mark\"]           -->  \"Max, John and Mark like this\"\n",
    "[\"Alex\", \"Jacob\", \"Mark\", \"Max\"]  -->  \"Alex, Jacob and 2 others like this\"\n",
    "\n",
    "Note: For 4 or more names, the number in \"and 2 others\" simply increases."
   ]
  },
  {
   "cell_type": "markdown",
   "metadata": {},
   "source": [
    "#### MY SOLUTION"
   ]
  },
  {
   "cell_type": "code",
   "execution_count": 5,
   "metadata": {},
   "outputs": [
    {
     "name": "stdout",
     "output_type": "stream",
     "text": [
      "no one likes this\n",
      "Peter likes this\n",
      "Jacob and Alex like this\n",
      "Max, John and Mark like this\n",
      "Alex, Jacob and 2 others like this\n"
     ]
    }
   ],
   "source": [
    "def likes(names):\n",
    "    length = len(names)\n",
    "\n",
    "    if length == 0:\n",
    "        return \"no one likes this\"\n",
    "\n",
    "    if length == 1:\n",
    "        return f\"{names[0]} likes this\"\n",
    "\n",
    "    if length == 2:\n",
    "        return f\"{names[0]} and {names[1]} like this\"\n",
    "\n",
    "    if length == 3:\n",
    "        return f\"{names[0]}, {names[1]} and {names[2]} like this\"\n",
    "\n",
    "    if length > 3:\n",
    "        return f\"{names[0]}, {names[1]} and {length - 2} others like this\"\n",
    "\n",
    "test_cases = [[], [\"Peter\"], [\"Jacob\", \"Alex\"], [\"Max\", \"John\", \"Mark\"], [\"Alex\", \"Jacob\", \"Mark\", \"Max\"]]\n",
    "\n",
    "for test in test_cases:\n",
    "    print(likes(test))"
   ]
  },
  {
   "cell_type": "markdown",
   "metadata": {},
   "source": [
    "#### ALTERNATIVE SOLUTIONS"
   ]
  },
  {
   "cell_type": "code",
   "execution_count": 1,
   "metadata": {},
   "outputs": [],
   "source": [
    "# SOLUTION 2\n",
    "\n",
    "def likes(names):\n",
    "    n = len(names)\n",
    "    return {\n",
    "        0: 'no one likes this',\n",
    "        1: '{} likes this', \n",
    "        2: '{} and {} like this', \n",
    "        3: '{}, {} and {} like this', \n",
    "        4: '{}, {} and {others} others like this'\n",
    "    }[min(4, n)].format(*names[:3], others=n-2)\n",
    "\n",
    "\n",
    "# SOLUTION 3\n",
    "\n",
    "def likes(names):\n",
    "    match names:\n",
    "        case []: return 'no one likes this'\n",
    "        case [a]: return f'{a} likes this'\n",
    "        case [a, b]: return f'{a} and {b} like this'\n",
    "        case [a, b, c]: return f'{a}, {b} and {c} like this'\n",
    "        case [a, b, *rest]: return f'{a}, {b} and {len(rest)} others like this'\n"
   ]
  },
  {
   "cell_type": "markdown",
   "metadata": {},
   "source": [
    "### EXERCISE: Count Characters in your string\n",
    "\n",
    "The main idea is to count all the occurring characters in a string. If you have a string like aba, then the result should be {'a': 2, 'b': 1}.\n",
    "\n",
    "What if the string is empty? Then the result should be empty object literal, {}."
   ]
  },
  {
   "cell_type": "markdown",
   "metadata": {},
   "source": [
    "#### MY SOLUTION"
   ]
  },
  {
   "cell_type": "code",
   "execution_count": 9,
   "metadata": {},
   "outputs": [
    {
     "data": {
      "text/plain": [
       "{}"
      ]
     },
     "execution_count": 9,
     "metadata": {},
     "output_type": "execute_result"
    }
   ],
   "source": [
    "def count(s):\n",
    "    char_count = {}\n",
    "    for char in s:\n",
    "        if char not in char_count.keys():\n",
    "            char_count[char] = 1\n",
    "        else:\n",
    "            char_count[char] += 1\n",
    "    return char_count"
   ]
  },
  {
   "cell_type": "code",
   "execution_count": 24,
   "metadata": {},
   "outputs": [
    {
     "data": {
      "text/plain": [
       "{'h': 1, 'e': 1, 'l': 2, 'o': 1}"
      ]
     },
     "execution_count": 24,
     "metadata": {},
     "output_type": "execute_result"
    }
   ],
   "source": [
    "from collections import defaultdict\n",
    "\n",
    "def count(s):\n",
    "    char_count = defaultdict(int)\n",
    "    for char in s:\n",
    "        char_count[char] += 1\n",
    "    return dict(char_count)\n",
    "\n",
    "count('hello')"
   ]
  },
  {
   "cell_type": "markdown",
   "metadata": {},
   "source": [
    "#### ALTERNATIVE SOLUTIONS"
   ]
  },
  {
   "cell_type": "code",
   "execution_count": 22,
   "metadata": {},
   "outputs": [],
   "source": [
    "## SOLUTION 2\n",
    "\n",
    "def count(s):\n",
    "    char_count = {}\n",
    "    for char in s:\n",
    "        if char in char_count.keys():\n",
    "            char_count[char] += 1\n",
    "        else:\n",
    "            char_count[char] = 1\n",
    "    return char_count\n",
    "\n",
    "\n",
    "## SOLUTION 3\n",
    "\n",
    "from collections import Counter\n",
    "\n",
    "def count(string):\n",
    "    return Counter(string)\n",
    "\n",
    "\n",
    "## SOLUTION 4\n",
    "\n",
    "def count(string):\n",
    "    return {i: string.count(i) for i in string}\n",
    "\n",
    "\n",
    "## SOLUTION 5\n",
    "\n",
    "def count(s):\n",
    "    return {x: s.count(x) for x in set(s)}"
   ]
  },
  {
   "cell_type": "markdown",
   "metadata": {},
   "source": [
    "## EXERCISE: Are they the \"same\"?\n",
    "\n",
    "Given two arrays a and b write a function comp(a, b) (orcompSame(a, b)) that checks whether the two arrays have the \"same\" elements, with the same multiplicities (the multiplicity of a member is the number of times it appears). \"Same\" means, here, that the elements in b are the elements in a squared, regardless of the order.\n",
    "\n",
    "### Examples\n",
    "Valid arrays\n",
    "```\n",
    "a = [121, 144, 19, 161, 19, 144, 19, 11]  \n",
    "b = [121, 14641, 20736, 361, 25921, 361, 20736, 361]\n",
    "```\n",
    "comp(a, b)returns true because in b 121 is the square of 11, 14641 is the square of 121, 20736 the square of 144, 361 the square of 19, 25921 the square of 161, and so on. It gets obvious if we write b's elements in terms of squares:\n",
    "\n",
    "```\n",
    "a = [121, 144, 19, 161, 19, 144, 19, 11] \n",
    "b = [11*11, 121*121, 144*144, 19*19, 161*161, 19*19, 144*144, 19*19]\n",
    "```\n",
    "Invalid arrays\n",
    "If, for example, we change the first number to something else, comp is not returning true anymore:\n",
    "\n",
    "```\n",
    "a = [121, 144, 19, 161, 19, 144, 19, 11]  \n",
    "b = [132, 14641, 20736, 361, 25921, 361, 20736, 361]\n",
    "```\n",
    "comp(a,b) returns false because in b 132 is not the square of any number of a.\n",
    "\n",
    "```\n",
    "a = [121, 144, 19, 161, 19, 144, 19, 11]  \n",
    "b = [121, 14641, 20736, 36100, 25921, 361, 20736, 361]\n",
    "```\n",
    "comp(a,b) returns false because in b 36100 is not the square of any number of a.\n",
    "\n",
    "### Remarks\n",
    "a or b might be [] or {} (all languages except R, Shell).\n",
    "a or b might be nil or null or None or nothing (except in C++, COBOL, Crystal, D, Dart, Elixir, Fortran, F#, Haskell, Nim, OCaml, Pascal, Perl, PowerShell, Prolog, PureScript, R, Racket, Rust, Shell, Swift).\n",
    "If a or b are nil (or null or None, depending on the language), the problem doesn't make sense so return false."
   ]
  },
  {
   "cell_type": "markdown",
   "metadata": {},
   "source": [
    "#### MY SOLUTION:"
   ]
  },
  {
   "cell_type": "code",
   "execution_count": 9,
   "metadata": {},
   "outputs": [
    {
     "data": {
      "text/plain": [
       "True"
      ]
     },
     "execution_count": 9,
     "metadata": {},
     "output_type": "execute_result"
    }
   ],
   "source": [
    "def comp(array1, array2):\n",
    "    \n",
    "    if array1 is None or array2 is None:\n",
    "        return False\n",
    "    \n",
    "    result = [num**2 for num in array1]\n",
    "    result_dict = {}\n",
    "    \n",
    "    for num in result:\n",
    "        if num in result_dict.keys():\n",
    "            result_dict[num] += 1\n",
    "        else:\n",
    "            result_dict[num] = 1\n",
    "\n",
    "    for num in array2:\n",
    "        \n",
    "        if num in result_dict.keys():\n",
    "            result_dict[num] -= 1\n",
    "            if result_dict[num] < 0:\n",
    "                return False\n",
    "        else:\n",
    "            return False\n",
    "    \n",
    "    return sum(result_dict.values()) == 0\n",
    "\n",
    "a = [121, 144, 19, 161, 19, 144, 19, 11]  \n",
    "b = [121, 14641, 20736, 361, 25921, 361, 20736, 361]\n",
    "\n",
    "comp(a, b)"
   ]
  },
  {
   "cell_type": "markdown",
   "metadata": {},
   "source": [
    "#### ALTERNATIVE SOLUTIONS:"
   ]
  },
  {
   "cell_type": "code",
   "execution_count": 10,
   "metadata": {},
   "outputs": [],
   "source": [
    "## SOLUTION 2:\n",
    "\n",
    "def comp(array1, array2):\n",
    "    try:\n",
    "        return sorted([i ** 2 for i in array1]) == sorted(array2)\n",
    "    except:\n",
    "        return False\n",
    "    \n",
    "\n",
    "## SOLUTION 3:\n",
    "    \n",
    "def comp(array1, array2):\n",
    "    if array1 and array2:\n",
    "        return sorted([x*x for x in array1]) == sorted(array2)\n",
    "    return array1 == array2 == []\n"
   ]
  },
  {
   "cell_type": "markdown",
   "metadata": {},
   "source": [
    "## EXERCISE: Bouncing Balls\n",
    "\n",
    "A child is playing with a ball on the nth floor of a tall building. The height of this floor above ground level, h, is known.\n",
    "\n",
    "He drops the ball out of the window. The ball bounces (for example), to two-thirds of its height (a bounce of 0.66).\n",
    "\n",
    "His mother looks out of a window 1.5 meters from the ground.\n",
    "\n",
    "How many times will the mother see the ball pass in front of her window (including when it's falling and bouncing)?\n",
    "\n",
    "Three conditions must be met for a valid experiment:\n",
    "Float parameter \"h\" in meters must be greater than 0\n",
    "Float parameter \"bounce\" must be greater than 0 and less than 1\n",
    "Float parameter \"window\" must be less than h.\n",
    "If all three conditions above are fulfilled, return a positive integer, otherwise return -1.\n",
    "\n",
    "Note:\n",
    "The ball can only be seen if the height of the rebounding ball is strictly greater than the window parameter.\n",
    "\n",
    "Examples:\n",
    "```\n",
    "- h = 3, bounce = 0.66, window = 1.5, result is 3\n",
    "\n",
    "- h = 3, bounce = 1, window = 1.5, result is -1 \n",
    "\n",
    "(Condition 2) not fulfilled).\n",
    "```\n"
   ]
  },
  {
   "cell_type": "markdown",
   "metadata": {},
   "source": [
    "#### MY SOLUTION"
   ]
  },
  {
   "cell_type": "code",
   "execution_count": null,
   "metadata": {},
   "outputs": [],
   "source": [
    "def bouncing_ball(h, bounce, window):\n",
    "    if h > 0 and 1 > bounce > 0 and h > window:\n",
    "        down, up = 0, 0\n",
    "        while h > window:\n",
    "            down += 1\n",
    "            h    *= bounce\n",
    "            if h > window: up += 1\n",
    "        return down + up\n",
    "    return -1"
   ]
  },
  {
   "cell_type": "markdown",
   "metadata": {},
   "source": [
    "#### ALTERNATIVE SOLUTIONS"
   ]
  },
  {
   "cell_type": "code",
   "execution_count": null,
   "metadata": {},
   "outputs": [],
   "source": []
  },
  {
   "cell_type": "markdown",
   "metadata": {},
   "source": [
    "## EXERCISE: Find the unique number\n",
    "\n",
    "There is an array with some numbers. All numbers are equal except for one. Try to find it!\n",
    "\n",
    "```\n",
    "find_uniq([ 1, 1, 1, 2, 1, 1 ]) == 2\n",
    "find_uniq([ 0, 0, 0.55, 0, 0 ]) == 0.55\n",
    "```\n",
    "It’s guaranteed that array contains at least 3 numbers.\n",
    "\n",
    "The tests contain some very huge arrays, so think about performance."
   ]
  },
  {
   "cell_type": "code",
   "execution_count": null,
   "metadata": {},
   "outputs": [],
   "source": [
    "def find_unique(arr):\n",
    "    previous_element = arr[0]\n",
    "    for index, num in enumerate(arr[1:]):\n",
    "        if num != previous_element:\n",
    "            if num != arr[index + 1]:\n",
    "                return num\n",
    "            else:\n",
    "                return previous_element"
   ]
  },
  {
   "cell_type": "markdown",
   "metadata": {},
   "source": [
    "## EXERCISE: Pete, the baker\n",
    "\n",
    "Pete likes to bake some cakes. He has some recipes and ingredients. Unfortunately he is not good in maths. Can you help him to find out, how many cakes he could bake considering his recipes?\n",
    "\n",
    "Write a function cakes(), which takes the recipe (object) and the available ingredients (also an object) and returns the maximum number of cakes Pete can bake (integer). For simplicity there are no units for the amounts (e.g. 1 lb of flour or 200 g of sugar are simply 1 or 200). Ingredients that are not present in the objects, can be considered as 0.\n",
    "\n",
    "Examples:\n",
    "\n",
    "```\n",
    "# must return 2\n",
    "cakes({flour: 500, sugar: 200, eggs: 1}, {flour: 1200, sugar: 1200, eggs: 5, milk: 200})\n",
    "# must return 0\n",
    "cakes({apples: 3, flour: 300, sugar: 150, milk: 100, oil: 100}, {sugar: 500, flour: 2000, milk: 2000})\n",
    "```\n",
    "\n",
    "#### MY SOLUTION"
   ]
  },
  {
   "cell_type": "code",
   "execution_count": 7,
   "metadata": {},
   "outputs": [
    {
     "name": "stdout",
     "output_type": "stream",
     "text": [
      "[2.0, 6.0, 5.0]\n"
     ]
    },
    {
     "data": {
      "text/plain": [
       "2"
      ]
     },
     "execution_count": 7,
     "metadata": {},
     "output_type": "execute_result"
    }
   ],
   "source": [
    "def cakes(recipe, available):\n",
    "\n",
    "    bake_amount = 0\n",
    "    if(all(ingredient in available.keys() for ingredient in recipe.keys())):\n",
    "        possible_amounts = [(available[ingredient] - available[ingredient] % recipe[ingredient]) / recipe[ingredient]\n",
    "                 for ingredient in recipe.keys()]\n",
    "        print(possible_amounts)\n",
    "        bake_amount = min(possible_amounts)\n",
    "\n",
    "    return int(bake_amount)\n",
    "\n",
    "\n",
    "recipe = {\"flour\": 500, \"sugar\": 200, \"eggs\": 1}\n",
    "available = {\"flour\": 1200, \"sugar\": 1200, \"eggs\": 5, \"milk\": 200}\n",
    "\n",
    "cakes(recipe, available)\n",
    "\n"
   ]
  },
  {
   "cell_type": "markdown",
   "metadata": {},
   "source": [
    "#### ALTERNATIVE SOLUTIONS"
   ]
  },
  {
   "cell_type": "code",
   "execution_count": 8,
   "metadata": {},
   "outputs": [
    {
     "data": {
      "text/plain": [
       "2.4"
      ]
     },
     "execution_count": 8,
     "metadata": {},
     "output_type": "execute_result"
    }
   ],
   "source": []
  },
  {
   "cell_type": "markdown",
   "metadata": {},
   "source": [
    "## EXERCISE: Maximum subarray sum\n",
    "\n",
    "The maximum sum subarray problem consists in finding the maximum sum of a contiguous subsequence in an array or list of integers:\n",
    "\n",
    "```\n",
    "max_sequence([-2, 1, -3, 4, -1, 2, 1, -5, 4])\n",
    "# should be 6: [4, -1, 2, 1]\n",
    "```\n",
    "Easy case is when the list is made up of only positive numbers and the maximum sum is the sum of the whole array. If the list is made up of only negative numbers, return 0 instead.\n",
    "\n",
    "Empty list is considered to have zero greatest sum. Note that the empty list or array is also a valid sublist/subarray."
   ]
  },
  {
   "cell_type": "code",
   "execution_count": 10,
   "metadata": {},
   "outputs": [
    {
     "name": "stdout",
     "output_type": "stream",
     "text": [
      "(6, [4, -1, 2, 1])\n"
     ]
    }
   ],
   "source": [
    "def max_sum_subarray(lst):\n",
    "    max_current = max_global = lst[0]\n",
    "    start = end = 0\n",
    "    s = 0\n",
    "    for i in range(1, len(lst)):\n",
    "        if lst[i] > max_current + lst[i]:\n",
    "            max_current = lst[i]\n",
    "            s = i\n",
    "        else:\n",
    "            max_current = max_current + lst[i]\n",
    "        if max_current > max_global:\n",
    "            max_global = max_current\n",
    "            start = s\n",
    "            end = i\n",
    "    if max_global < 0:\n",
    "        return 0\n",
    "    return max_global, lst[start:end+1]\n",
    "\n",
    "print(max_sum_subarray([-2, 1, -3, 4, -1, 2, 1, -5, 4]))  # Output: (6, [4, -1, 2, 1])\n"
   ]
  },
  {
   "cell_type": "code",
   "execution_count": 15,
   "metadata": {},
   "outputs": [
    {
     "name": "stdout",
     "output_type": "stream",
     "text": [
      "(-5, [-5])\n"
     ]
    }
   ],
   "source": [
    "def min_sum_subarray(lst):\n",
    "    min_current = min_global = lst[0]\n",
    "    start = end = 0\n",
    "    s = 0\n",
    "    for i in range(1, len(lst)):\n",
    "        if lst[i] < min_current + lst[i]:\n",
    "            min_current = lst[i]\n",
    "            s = i\n",
    "        else:\n",
    "            min_current = min_current + lst[i]\n",
    "        if min_current < min_global:\n",
    "            min_global = min_current\n",
    "            start = s\n",
    "            end = i\n",
    "    return min_global, lst[start:end+1]\n",
    "\n",
    "print(min_sum_subarray([-2, 1, -3, 4, -1, 2, 1, -5, 4]))  # Output: (-3, [-3])"
   ]
  },
  {
   "cell_type": "code",
   "execution_count": 30,
   "metadata": {},
   "outputs": [
    {
     "name": "stdout",
     "output_type": "stream",
     "text": [
      "[[1, 2, -3]]\n"
     ]
    }
   ],
   "source": [
    "def zero_sum_subarrays(lst):\n",
    "    result = []\n",
    "    current_sum = 0\n",
    "    start = 0\n",
    "    for end, num in enumerate(lst):\n",
    "        current_sum += num\n",
    "        if current_sum == 0:\n",
    "            result.append(lst[start:end+1])\n",
    "            start = end + 1\n",
    "        elif current_sum < 0:\n",
    "            current_sum = 0\n",
    "            start = end + 1\n",
    "    return result\n",
    "\n",
    "print(zero_sum_subarrays([1, 2, -3, 4, -5, 1, 6]))  # Output: [[-3, 4, -5]]"
   ]
  },
  {
   "cell_type": "code",
   "execution_count": 31,
   "metadata": {},
   "outputs": [
    {
     "name": "stdout",
     "output_type": "stream",
     "text": [
      "[[1, 2, -3], [1, 2, -3, 4, -5, 1], [4, -5, 1]]\n"
     ]
    }
   ],
   "source": [
    "def sum_zero_subarrays(lst):\n",
    "    results = []\n",
    "    for i in range(len(lst)):\n",
    "        for j in range(i, len(lst)):\n",
    "            subarray = lst[i:j+1]\n",
    "            if sum(subarray) == 0:\n",
    "                results.append(subarray)\n",
    "    return results\n",
    "\n",
    "print(sum_zero_subarrays([1, 2, -3, 4, -5, 1, 6]))"
   ]
  },
  {
   "cell_type": "code",
   "execution_count": 27,
   "metadata": {},
   "outputs": [
    {
     "name": "stdout",
     "output_type": "stream",
     "text": [
      "[2, 3]\n"
     ]
    }
   ],
   "source": [
    "print([1,2,3][1:3])"
   ]
  },
  {
   "cell_type": "markdown",
   "metadata": {},
   "source": [
    "# NON_EXERCISE SCRATCH PADS:"
   ]
  },
  {
   "cell_type": "markdown",
   "metadata": {},
   "source": [
    "## SCRATCH PAD 1:\n",
    "\n",
    "#### Probability Distribution and Expected Value of a Roll\n",
    "\n",
    "I play a lot of tabletop games involving dice, and set to explore the probability distribution of dice rolls. I built a function which does the following:\n",
    "\n",
    "1. Recieves three arguments (num_dice, num_sides, face_values), 3 interrelated lists of equal length.\n",
    "    - num_dice = [num_dice1, num_dice2, num_dice3, ...] <-- This list contains the number of each unique dice type.\n",
    "    - num_sides = [num_sides1, num_sides2, num_sides2, ...] <-- This list contains the number of sides for each dice type.\n",
    "    - face_values = [face_list1, face_list2, face_list3] <-- This list contains the face_values of each dice type.\n",
    "2. Calculates the probability distribution and expected value of a roll consisting of the dice described by the arguments.\n",
    "3. Displays the probability distribution using matplotlib."
   ]
  },
  {
   "cell_type": "code",
   "execution_count": 13,
   "metadata": {},
   "outputs": [
    {
     "name": "stdout",
     "output_type": "stream",
     "text": [
      "2.208333333333333\n"
     ]
    }
   ],
   "source": [
    "def expected_value(num_dice, num_sides, face_values):\n",
    "    # Calculate the expected value of a roll with the given dice\n",
    "    expected_value = 0\n",
    "\n",
    "    # Loop through each type of dice\n",
    "    for i in range(len(num_dice)):\n",
    "        # Calculate the expected value of a single roll of the current dice type\n",
    "        expected_single_roll = sum(face_values[i]) / num_sides[i]\n",
    "\n",
    "        # Add the expected value of the current dice type multiplied by the number of dice of this type\n",
    "        expected_value += num_dice[i] * expected_single_roll\n",
    "\n",
    "    # Return the total expected value\n",
    "    return expected_value\n",
    "\n",
    "num_dice = [1, 2]\n",
    "num_sides = [8, 6]\n",
    "face_values = [[0, 0, 0, 1, 1, 1, 2, 2], [0, 0, 0, 1, 1, 2]]\n",
    "\n",
    "print(expected_value(num_dice, num_sides, face_values))"
   ]
  },
  {
   "cell_type": "code",
   "execution_count": 26,
   "metadata": {},
   "outputs": [
    {
     "data": {
      "image/png": "[encoded data removed]",
      "text/plain": [
       "<Figure size 640x480 with 1 Axes>"
      ]
     },
     "metadata": {},
     "output_type": "display_data"
    },
    {
     "name": "stdout",
     "output_type": "stream",
     "text": [
      "7.0\n"
     ]
    }
   ],
   "source": [
    "import matplotlib.pyplot as plt\n",
    "import numpy as np\n",
    "import itertools\n",
    "\n",
    "def expected_value(num_dice, num_sides, face_values):\n",
    "    # Calculate the expected value of a roll with the given dice\n",
    "    expected_value = 0\n",
    "\n",
    "    # Iterate over each type of dice\n",
    "    for i in range(len(num_dice)):\n",
    "        # Calculate the expected value of a single roll of the current dice type\n",
    "        expected_single_roll = sum(face_values[i]) / num_sides[i]\n",
    "\n",
    "        # Add the expected value of the current dice type multiplied by the number of dice of this type\n",
    "        expected_value += num_dice[i] * expected_single_roll\n",
    "\n",
    "    # Return the total expected value\n",
    "    return expected_value\n",
    "\n",
    "def plot_probability_distribution(num_dice, num_sides, face_values):\n",
    "    \n",
    "    iter_args = []\n",
    "    for i in range(len(num_dice)):\n",
    "        counter = num_dice[i]\n",
    "        while counter > 0:\n",
    "            iter_args.append(face_values[i])\n",
    "            counter -= 1\n",
    "\n",
    "    # Generate all possible outcomes\n",
    "    all_outcomes = [sum(combination) for combination in itertools.product(*iter_args)]\n",
    "\n",
    "    # Create a histogram\n",
    "    plt.hist(all_outcomes, bins=max(all_outcomes)-min(all_outcomes)+1, density=True, edgecolor='black')\n",
    "    plt.xlabel('Sum of Dice Rolls')\n",
    "    plt.ylabel('Probability')\n",
    "    plt.title('Probability Distribution of Dice Rolls')\n",
    "    plt.grid(True)\n",
    "    plt.show()\n",
    "    print(expected_value(num_dice, num_sides, face_values))\n",
    "\n",
    "# Test the function\n",
    "num_dice = [2]\n",
    "num_sides = [6]\n",
    "face_values = [[1,2,3,4,5,6]]\n",
    "\n",
    "plot_probability_distribution(num_dice, num_sides, face_values)"
   ]
  },
  {
   "cell_type": "markdown",
   "metadata": {},
   "source": [
    "#### IDEAS FOR IMPROVEMENT\n",
    "\n",
    "TODO: Try to optimize the code using numpy library"
   ]
  }
 ],
 "metadata": {
  "kernelspec": {
   "display_name": "ML_env",
   "language": "python",
   "name": "python3"
  },
  "language_info": {
   "codemirror_mode": {
    "name": "ipython",
    "version": 3
   },
   "file_extension": ".py",
   "mimetype": "text/x-python",
   "name": "python",
   "nbconvert_exporter": "python",
   "pygments_lexer": "ipython3",
   "version": "3.12.1"
  }
 },
 "nbformat": 4,
 "nbformat_minor": 2
}
