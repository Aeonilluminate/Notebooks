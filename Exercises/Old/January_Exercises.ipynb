{
 "cells": [
  {
   "cell_type": "markdown",
   "metadata": {},
   "source": [
    "## Exercise 1\n",
    "\n",
    "An isogram is a word that has no repeating letters, consecutive or non-consecutive. Implement a function that determines whether a string that contains only letters is an isogram. Assume the empty string is an isogram. Ignore letter case.\n",
    "\n",
    "Example: (Input --> Output)\n",
    "\n",
    "\"Dermatoglyphics\" --> true \"aba\" --> false \"moOse\" --> false (ignore letter case)\n",
    "\n",
    "isIsogram \"Dermatoglyphics\" = true\n",
    "isIsogram \"moose\" = false\n",
    "isIsogram \"aba\" = false"
   ]
  },
  {
   "cell_type": "markdown",
   "metadata": {},
   "source": [
    "#### MY SOLUTION"
   ]
  },
  {
   "cell_type": "code",
   "execution_count": 1,
   "metadata": {},
   "outputs": [
    {
     "data": {
      "text/plain": [
       "True"
      ]
     },
     "execution_count": 1,
     "metadata": {},
     "output_type": "execute_result"
    }
   ],
   "source": [
    "def is_isogram(string):\n",
    "    \n",
    "    string = string.lower()\n",
    "    if len(string) == 0:\n",
    "        return True\n",
    "    \n",
    "    else:\n",
    "        seen = []\n",
    "        for _ in string:\n",
    "            if _ not in seen:\n",
    "                seen.append(_)\n",
    "            else:\n",
    "                return False\n",
    "        return True\n",
    "\n",
    "user_input = input()\n",
    "is_isogram(user_input)"
   ]
  },
  {
   "cell_type": "markdown",
   "metadata": {},
   "source": [
    "#### CLEVER SOLUTION"
   ]
  },
  {
   "cell_type": "code",
   "execution_count": 3,
   "metadata": {},
   "outputs": [
    {
     "data": {
      "text/plain": [
       "False"
      ]
     },
     "execution_count": 3,
     "metadata": {},
     "output_type": "execute_result"
    }
   ],
   "source": [
    "def is_isogram(string):\n",
    "    return len(string) == len(set(string.lower()))\n",
    "    \n",
    "user_input = input()\n",
    "is_isogram(user_input)"
   ]
  },
  {
   "cell_type": "markdown",
   "metadata": {},
   "source": [
    "------------------------------------------------------------------------------------------------------------------------------------------------------------"
   ]
  },
  {
   "cell_type": "markdown",
   "metadata": {},
   "source": [
    "## Exercise 2\n",
    "\n",
    "ATM machines allow 4 or 6 digit PIN codes and PIN codes cannot contain anything but exactly 4 digits or exactly 6 digits.\n",
    "\n",
    "If the function is passed a valid PIN string, return true, else return false.\n",
    "\n",
    "Examples (Input --> Output)\n",
    "\"1234\"   -->  true\n",
    "\"12345\"  -->  false\n",
    "\"a234\"   -->  false"
   ]
  },
  {
   "cell_type": "markdown",
   "metadata": {},
   "source": [
    "#### MY SOLUTION"
   ]
  },
  {
   "cell_type": "code",
   "execution_count": 4,
   "metadata": {},
   "outputs": [
    {
     "data": {
      "text/plain": [
       "True"
      ]
     },
     "execution_count": 4,
     "metadata": {},
     "output_type": "execute_result"
    }
   ],
   "source": [
    "def validate_pin(pin):\n",
    "    valid_elements = ['0', '1', '2', '3', '4',\n",
    "                      '5', '6', '7', '8', '9']\n",
    "    if len(pin) == 4 or len(pin) == 6:\n",
    "        for _ in pin:\n",
    "            if _ not in valid_elements:\n",
    "                return False\n",
    "        return True\n",
    "    else:\n",
    "        return False\n",
    "\n",
    "user_input = input()\n",
    "validate_pin(user_input)"
   ]
  },
  {
   "cell_type": "code",
   "execution_count": 19,
   "metadata": {},
   "outputs": [
    {
     "name": "stdout",
     "output_type": "stream",
     "text": [
      "25\n",
      "2\n",
      "3\n",
      "4\n",
      "5\n"
     ]
    },
    {
     "data": {
      "text/plain": [
       "False"
      ]
     },
     "execution_count": 19,
     "metadata": {},
     "output_type": "execute_result"
    }
   ],
   "source": [
    "import math\n",
    "\n",
    "def validate_pin(pin):\n",
    "    if len(pin) == 4 or len(pin) == 6:\n",
    "        if pin.isdigit():\n",
    "            digit_sum = sum(int(digit) for digit in pin)\n",
    "            print(digit_sum)\n",
    "            if digit_sum > 1:\n",
    "                for i in range(2, int(math.sqrt(digit_sum)) + 1):\n",
    "                    print(i)\n",
    "                    if digit_sum % i == 0:\n",
    "                        return False\n",
    "                return True\n",
    "    return False\n",
    "\n",
    "user_input = input()\n",
    "validate_pin(user_input)"
   ]
  },
  {
   "cell_type": "markdown",
   "metadata": {},
   "source": [
    "#### CLEVER SOLUTION"
   ]
  },
  {
   "cell_type": "code",
   "execution_count": null,
   "metadata": {},
   "outputs": [],
   "source": []
  },
  {
   "cell_type": "code",
   "execution_count": 5,
   "metadata": {},
   "outputs": [
    {
     "data": {
      "text/plain": [
       "True"
      ]
     },
     "execution_count": 5,
     "metadata": {},
     "output_type": "execute_result"
    }
   ],
   "source": [
    "def validate_pin(pin):\n",
    "    return len(pin) in (4, 6) and pin.isdigit()\n",
    "\n",
    "user_input = input()\n",
    "validate_pin(user_input)"
   ]
  },
  {
   "cell_type": "markdown",
   "metadata": {},
   "source": [
    "##### Notes:\n",
    "\n",
    "user: leztien (4 kyu) 14 months ago\n",
    "\"¹234\" returns True because str.isdigit treats superscripts as digits. str.isdecimal should be used instead."
   ]
  },
  {
   "cell_type": "markdown",
   "metadata": {},
   "source": [
    "-------------------"
   ]
  },
  {
   "cell_type": "markdown",
   "metadata": {},
   "source": [
    "## Exercise 3\n",
    "#### Algorithns, Arrays, Fundamentals\n",
    "\n",
    "You are going to be given an array of integers. Your job is to take that array and find an index N where the sum of the integers to the left of N is equal to the sum of the integers to the right of N. If there is no index that would make this happen, return -1.\n",
    "\n",
    "For example:\n",
    "\n",
    "Let's say you are given the array {1,2,3,4,3,2,1}:\n",
    "Your function will return the index 3, because at the 3rd position of the array, the sum of left side of the index ({1,2,3}) and the sum of the right side of the index ({3,2,1}) both equal 6.\n",
    "\n",
    "Let's look at another one.\n",
    "You are given the array {1,100,50,-51,1,1}:\n",
    "Your function will return the index 1, because at the 1st position of the array, the sum of left side of the index ({1}) and the sum of the right side of the index ({50,-51,1,1}) both equal 1.\n",
    "\n",
    "Last one:\n",
    "You are given the array {20,10,-80,10,10,15,35}\n",
    "At index 0 the left side is {}\n",
    "The right side is {10,-80,10,10,15,35}\n",
    "They both are equal to 0 when added. (Empty arrays are equal to 0 in this problem)\n",
    "Index 0 is the place where the left side and right side are equal.\n",
    "\n",
    "Note: Please remember that in most programming/scripting languages the index of an array starts at 0.\n",
    "\n",
    "Input:\n",
    "An integer array of length 0 < arr < 1000. The numbers in the array can be any integer positive or negative.\n",
    "\n",
    "Output:\n",
    "The lowest index N where the side to the left of N is equal to the side to the right of N. If you do not find an index that fits these rules, then you will return -1.\n",
    "\n",
    "Note:\n",
    "If you are given an array with multiple answers, return the lowest correct index."
   ]
  },
  {
   "cell_type": "markdown",
   "metadata": {},
   "source": [
    "#### MY SOLUTION"
   ]
  },
  {
   "cell_type": "code",
   "execution_count": 19,
   "metadata": {},
   "outputs": [
    {
     "data": {
      "text/plain": [
       "3"
      ]
     },
     "execution_count": 19,
     "metadata": {},
     "output_type": "execute_result"
    }
   ],
   "source": [
    "def find_even_index(arr):\n",
    "    candidates = []\n",
    "    for index, element in enumerate(arr):\n",
    "        if sum(arr[0:index]) == sum(arr[index + 1::]):\n",
    "            candidates.append(index)\n",
    "    if len(candidates) == 0:\n",
    "        return -1\n",
    "    else:\n",
    "        return min(candidates)\n",
    "\n",
    "test = [1,2,3,4,3,2,1]\n",
    "find_even_index(test)"
   ]
  },
  {
   "cell_type": "markdown",
   "metadata": {},
   "source": [
    "#### CLEVER SOLUTION"
   ]
  },
  {
   "cell_type": "code",
   "execution_count": 20,
   "metadata": {},
   "outputs": [
    {
     "data": {
      "text/plain": [
       "3"
      ]
     },
     "execution_count": 20,
     "metadata": {},
     "output_type": "execute_result"
    }
   ],
   "source": [
    "def find_even_index(arr):\n",
    "    for i in range(len(arr)):\n",
    "        if sum(arr[:i]) == sum(arr[i+1:]):\n",
    "            return i\n",
    "    return -1\n",
    "\n",
    "test = [1,2,3,4,3,2,1]\n",
    "find_even_index(test)"
   ]
  },
  {
   "cell_type": "markdown",
   "metadata": {},
   "source": [
    "-------------------"
   ]
  },
  {
   "cell_type": "markdown",
   "metadata": {},
   "source": [
    "## Exercise 4\n",
    "#### Fundamentals\n",
    "\n",
    "Simple, given a string of words, return the length of the shortest word(s).\n",
    "\n",
    "String will never be empty and you do not need to account for different data types."
   ]
  },
  {
   "cell_type": "markdown",
   "metadata": {},
   "source": [
    "#### MY SOLUTION"
   ]
  },
  {
   "cell_type": "code",
   "execution_count": 23,
   "metadata": {},
   "outputs": [
    {
     "data": {
      "text/plain": [
       "2"
      ]
     },
     "execution_count": 23,
     "metadata": {},
     "output_type": "execute_result"
    }
   ],
   "source": [
    "def find_short(s):\n",
    "    word_lengths = []\n",
    "    current_length = 0\n",
    "    for index, chr in enumerate(s):\n",
    "        \n",
    "        if chr != \" \":\n",
    "            current_length += 1\n",
    "        else:\n",
    "            word_lengths.append(current_length)\n",
    "            current_length = 0\n",
    "            \n",
    "        if index + 1 == len(s):\n",
    "            word_lengths.append(current_length)\n",
    "            \n",
    "    return min(word_lengths)\n",
    "\n",
    "test = \"Math is my favorite subject.\"\n",
    "find_short(test)"
   ]
  },
  {
   "cell_type": "markdown",
   "metadata": {},
   "source": [
    "#### CLEVER SOLUTION"
   ]
  },
  {
   "cell_type": "code",
   "execution_count": 22,
   "metadata": {},
   "outputs": [
    {
     "data": {
      "text/plain": [
       "1"
      ]
     },
     "execution_count": 22,
     "metadata": {},
     "output_type": "execute_result"
    }
   ],
   "source": [
    "def find_short(s):\n",
    "    return min(len(x) for x in s.split())\n",
    "\n",
    "test = \"This is just a random sentence.\"\n",
    "find_short(test)"
   ]
  },
  {
   "cell_type": "markdown",
   "metadata": {},
   "source": [
    "---------------"
   ]
  },
  {
   "cell_type": "markdown",
   "metadata": {},
   "source": [
    "## Exercise 5\n",
    "\n",
    "#### Lists, Strings Refactoring\n",
    "\n",
    "Given two arrays of strings a1 and a2 return a sorted array r in lexicographical order of the strings of a1 which are substrings of strings of a2.\n",
    "\n",
    "##### Example 1:\n",
    "a1 = [\"arp\", \"live\", \"strong\"]\n",
    "\n",
    "a2 = [\"lively\", \"alive\", \"harp\", \"sharp\", \"armstrong\"]\n",
    "\n",
    "returns [\"arp\", \"live\", \"strong\"]\n",
    "\n",
    "##### Example 2:\n",
    "a1 = [\"tarp\", \"mice\", \"bull\"]\n",
    "\n",
    "a2 = [\"lively\", \"alive\", \"harp\", \"sharp\", \"armstrong\"]\n",
    "\n",
    "returns []\n",
    "\n",
    "Notes:\n",
    "Arrays are written in \"general\" notation. See \"Your Test Cases\" for examples in your language.\n",
    "In Shell bash a1 and a2 are strings. The return is a string where words are separated by commas.\n",
    "Beware: In some languages r must be without duplicates."
   ]
  },
  {
   "cell_type": "markdown",
   "metadata": {},
   "source": [
    "#### MY SOLUTION"
   ]
  },
  {
   "cell_type": "code",
   "execution_count": 3,
   "metadata": {},
   "outputs": [
    {
     "data": {
      "text/plain": [
       "['arp', 'live', 'strong']"
      ]
     },
     "execution_count": 3,
     "metadata": {},
     "output_type": "execute_result"
    }
   ],
   "source": [
    "def in_array(array1, array2):\n",
    "    substrings = []\n",
    "    for string1 in array1:\n",
    "        for string2 in array2:\n",
    "            if string1 in string2 and string1 not in substrings:\n",
    "                substrings.append(string1)\n",
    "    \n",
    "    substrings.sort()\n",
    "    return substrings\n",
    "\n",
    "test = ([\"arp\", \"live\", \"strong\"], [\"lively\", \"alive\", \"harp\", \"sharp\", \"armstrong\"])\n",
    "in_array(test[0], test[1])"
   ]
  },
  {
   "cell_type": "markdown",
   "metadata": {},
   "source": [
    "#### CLEVER SOLUTION"
   ]
  },
  {
   "cell_type": "code",
   "execution_count": 5,
   "metadata": {},
   "outputs": [
    {
     "data": {
      "text/plain": [
       "['arp', 'live', 'strong']"
      ]
     },
     "execution_count": 5,
     "metadata": {},
     "output_type": "execute_result"
    }
   ],
   "source": [
    "def in_array(a1, a2):\n",
    "    return sorted({sub for sub in a1 if any(sub in s for s in a2)})\n",
    "\n",
    "test = ([\"arp\", \"live\", \"strong\"], [\"lively\", \"alive\", \"harp\", \"sharp\", \"armstrong\"])\n",
    "in_array(test[0], test[1])"
   ]
  },
  {
   "cell_type": "code",
   "execution_count": null,
   "metadata": {},
   "outputs": [],
   "source": [
    "def a1_in_a2(a1, a2):\n",
    "    r = []\n",
    "    for s1 in a1:\n",
    "        for s2 in a2:\n",
    "            if s1 in s2:\n",
    "                r.append(s1)\n",
    "                break\n",
    "    return sorted(r)\n",
    "\n",
    "a1 = [\"arp\", \"live\", \"strong\"]\n",
    "a2 = [\"lively\", \"alive\", \"harp\", \"sharp\", \"armstrong\"]\n",
    "print(a1_in_a2(a1, a2))  # Output: [\"arp\", \"live\", \"strong\"]\n",
    "\n",
    "a1 = [\"tarp\", \"mice\", \"bull\"]\n",
    "a2 = [\"lively\", \"alive\", \"harp\", \"sharp\", \"armstrong\"]\n",
    "print(a1_in_a2(a1, a2))  # Output: []"
   ]
  },
  {
   "cell_type": "markdown",
   "metadata": {},
   "source": [
    "---------------"
   ]
  },
  {
   "cell_type": "markdown",
   "metadata": {},
   "source": [
    "## Exercise 6\n",
    "\n",
    "#### Algorithms\n",
    "\n",
    "You are given an array (which will have a length of at least 3, but could be very large) containing integers. The array is either entirely comprised of odd integers or entirely comprised of even integers except for a single integer N. Write a method that takes the array as an argument and returns this \"outlier\" N.\n",
    "\n",
    "#### Examples\n",
    "[2, 4, 0, 100, 4, 11, 2602, 36] -->  11 (the only odd number)\n",
    "\n",
    "[160, 3, 1719, 19, 11, 13, -21] --> 160 (the only even number)\n"
   ]
  },
  {
   "cell_type": "markdown",
   "metadata": {},
   "source": [
    "#### MY SOLUTION"
   ]
  },
  {
   "cell_type": "code",
   "execution_count": 11,
   "metadata": {},
   "outputs": [
    {
     "data": {
      "text/plain": [
       "160"
      ]
     },
     "execution_count": 11,
     "metadata": {},
     "output_type": "execute_result"
    }
   ],
   "source": [
    "def find_outlier(integers):\n",
    "    n = 0\n",
    "    parity_log = {\"even\": [], \"odd\": []}\n",
    "    parity = None\n",
    "    while n < 3:\n",
    "        if integers[n] % 2 == 0:\n",
    "            parity_log[\"even\"].append(integers[n])\n",
    "        else:\n",
    "            parity_log[\"odd\"].append(integers[n])\n",
    "        \n",
    "        n += 1\n",
    "        \n",
    "        parity = \"even\" if len(parity_log[\"even\"]) > len(parity_log[\"odd\"]) else \"odd\"\n",
    "\n",
    "    if len(parity_log[\"even\"]) > 0 and len(parity_log[\"odd\"]) > 0:\n",
    "        if len(parity_log[\"even\"]) == 1:\n",
    "            return parity_log[\"even\"][0]\n",
    "        else:\n",
    "            return parity_log[\"odd\"][0]\n",
    "    \n",
    "    if parity == \"even\":\n",
    "        for integer in integers[3:]:\n",
    "            if integer % 2 == 1:\n",
    "                return integer\n",
    "    else:\n",
    "        for integer in integers[3:]:\n",
    "            if integer % 2 == 0:\n",
    "                return integer        \n",
    "\n",
    "tests = [[2, 4, 0, 100, 4, 11, 2602, 36], [160, 3, 1719, 19, 11, 13, -21]]\n",
    "\n",
    "find_outlier(tests[1])"
   ]
  },
  {
   "cell_type": "markdown",
   "metadata": {},
   "source": [
    "#### CLEVER SOLUTION"
   ]
  },
  {
   "cell_type": "code",
   "execution_count": 13,
   "metadata": {},
   "outputs": [
    {
     "data": {
      "text/plain": [
       "11"
      ]
     },
     "execution_count": 13,
     "metadata": {},
     "output_type": "execute_result"
    }
   ],
   "source": [
    "def find_outlier(integers):\n",
    "\tevens = []\n",
    "\todds = []\n",
    "\tfor each in integers:\n",
    "\t\tif each%2==0:\n",
    "\t\t\tevens.append(each)\n",
    "\t\telse:\n",
    "\t\t\todds.append(each)\n",
    "\t\tif len(evens)>1 and len(odds)==1:\n",
    "\t\t\treturn odds[0]\n",
    "\t\telif len(odds)>1 and len(evens)==1:\n",
    "\t\t\treturn evens[0]\n",
    "\n",
    "tests = [[2, 4, 0, 100, 4, 11, 2602, 36], [160, 3, 1719, 19, 11, 13, -21]]\n",
    "\n",
    "find_outlier(tests[0])"
   ]
  },
  {
   "cell_type": "code",
   "execution_count": 13,
   "metadata": {},
   "outputs": [
    {
     "data": {
      "text/plain": [
       "'design all skill whole check deal wish visit now moment offer planet people electric lot huge system card current man way our parent wait'"
      ]
     },
     "execution_count": 13,
     "metadata": {},
     "output_type": "execute_result"
    }
   ],
   "source": [
    "def decode(message_file):\n",
    "\n",
    "    number_word_dict = {}\n",
    "\n",
    "    with open(message_file, 'r') as file:\n",
    "        for line in file:\n",
    "            number, word = line.split()\n",
    "            number_word_dict[int(number)] = word\n",
    "\n",
    "    ascending_order = list(number_word_dict.keys())\n",
    "    ascending_order.sort()\n",
    "\n",
    "    decoded_message = []\n",
    "    step = 1\n",
    "\n",
    "    while len(ascending_order) != 0:\n",
    "        if len(ascending_order) >= step:\n",
    "            decoded_message.append(number_word_dict[ascending_order[step-1]])\n",
    "            ascending_order = ascending_order[step:]\n",
    "            step += 1\n",
    "        else:\n",
    "            return f'Unable to create base of pyramid - the decoding process stopped at: \"{' '.join(decoded_message)}\"'\n",
    "        \n",
    "    return f\"{' '.join(decoded_message)}\"\n",
    "\n",
    "\n",
    "decode(\"coding_qual_input.txt\")"
   ]
  },
  {
   "cell_type": "code",
   "execution_count": 9,
   "metadata": {},
   "outputs": [
    {
     "name": "stdout",
     "output_type": "stream",
     "text": [
      "['3 love\\n', '6 computers\\n', '2 dogs\\n', '4 cats\\n', '1 lol']\n"
     ]
    },
    {
     "data": {
      "text/plain": [
       "{3: 'love', 6: 'computers', 2: 'dogs', 4: 'cats', 1: 'lol'}"
      ]
     },
     "execution_count": 9,
     "metadata": {},
     "output_type": "execute_result"
    }
   ],
   "source": [
    "def read_file(filename):\n",
    "    with open(filename, 'r') as file:\n",
    "        data = file.readlines()\n",
    "        print(data)\n",
    "    return {int(line.split()[0]): line.split()[1] for line in data}\n",
    "\n",
    "\n",
    "read_file(\"test.txt\")"
   ]
  },
  {
   "cell_type": "code",
   "execution_count": 8,
   "metadata": {},
   "outputs": [
    {
     "name": "stdout",
     "output_type": "stream",
     "text": [
      "3 love\n",
      "\n",
      "6 computers\n",
      "\n",
      "2 dogs\n",
      "\n",
      "4 cats\n",
      "\n",
      "1 lol\n",
      "{}\n"
     ]
    }
   ],
   "source": [
    "with open('test.txt', 'r') as f:\n",
    "    for line in f:\n",
    "        print(line)\n",
    "    dictionary = {int(line.split()[0]): line.split()[1] for line in f}\n",
    "\n",
    "print(dictionary)"
   ]
  },
  {
   "cell_type": "code",
   "execution_count": null,
   "metadata": {},
   "outputs": [],
   "source": []
  }
 ],
 "metadata": {
  "kernelspec": {
   "display_name": "slac_env",
   "language": "python",
   "name": "python3"
  },
  "language_info": {
   "codemirror_mode": {
    "name": "ipython",
    "version": 3
   },
   "file_extension": ".py",
   "mimetype": "text/x-python",
   "name": "python",
   "nbconvert_exporter": "python",
   "pygments_lexer": "ipython3",
   "version": "3.12.1"
  }
 },
 "nbformat": 4,
 "nbformat_minor": 2
}
